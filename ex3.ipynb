{
 "cells": [
  {
   "cell_type": "markdown",
   "metadata": {},
   "source": [
    "Blatt 3 Beispiellösung\n",
    "-------"
   ]
  },
  {
   "cell_type": "markdown",
   "metadata": {},
   "source": [
    "Ansehen auf\n",
    "[Github](https://github.com/jonasitzmann/grundlagen_ml/blob/master/ex3.ipynb)\n",
    "oder mit \n",
    "[Google Colaboratory](https://colab.research.google.com/github/jonasitzmann/grundlagen_ml/blob/master/ex3.ipynb)\n",
    "ausführen."
   ]
  },
  {
   "cell_type": "markdown",
   "metadata": {},
   "source": [
    "Clone repository if necessary (for example for execution in google colab)"
   ]
  },
  {
   "cell_type": "code",
   "execution_count": 1,
   "metadata": {},
   "outputs": [],
   "source": [
    "import os\n",
    "if not os.path.exists('grundlagen_ml'):\n",
    "  print('cloning repository github.com/jonasitzmann/grundlagen_ml')\n",
    "  os.system('git clone https://github.com/jonasitzmann/grundlagen_ml')\n",
    "  os.chdir('grundlagen_ml')"
   ]
  },
  {
   "cell_type": "markdown",
   "metadata": {},
   "source": [
    "# Task 3.1 Gewichteter Fehler theoretisch:\n",
    "<font color='#1d478c'>\n",
    "Nehmen Sie an, ein Datensatz $\\vec x_n$ , $\\vec t_n$ ist gegeben,\n",
    "wobei jeder Trainingsdatenpunkt $n$ mit einem Faktor $r_n$ gewichtet ist.  \n",
    "Setze ein lineares Model\n",
    "$y_n = \\omega^T \\phi(\\vec x_n)$\n",
    "an (für irgendein $\\phi\\left( \\right)$ und $n = 1 \\dots N$ Trainingsdaten)\n",
    "und betrachte die entsprechende Fehlerfunktion.  \n",
    "$$\n",
    "E_D(\\vec\\omega) = \\sum_{n=1}^{N} r_n\n",
    "\\left(\n",
    "t_n - \\vec\\omega^T \\phi \\left( x_n \\right)\n",
    "\\right) ^2\n",
    "$$  \n",
    "Finde die Lösung für die optimalen Parameter $\\omega$\n",
    "</font>"
   ]
  },
  {
   "cell_type": "markdown",
   "metadata": {},
   "source": [
    "#### Idee:\n",
    "Ich führe den gewichteten quadratischen Fehler auf den ungewichteten quadratischen Fehler zurück.\n",
    "Dieser lässt sich, wie in Übung 2 behandelt durch die\n",
    "[Moore-Penrose-Pseudoinverse](https://en.wikipedia.org/wiki/Moore%E2%80%93Penrose_inverse)\n",
    "minimieren."
   ]
  },
  {
   "cell_type": "markdown",
   "metadata": {},
   "source": [
    "\\begin{align}\n",
    "E_D(\\vec\\omega) &= \\sum_{n=1}^{N} r_n \\left( t_n - \\vec\\omega^T \\phi \\left( x_n \\right) \\right) ^2 \\\\  \n",
    "&= \\sum_{n=1}^{N} \\left(\\sqrt{r_n} \\left( t_n - \\vec\\omega^T \\phi \\left( x_n \\right) \\right) \\right) ^2 \\\\\n",
    "&= \\sum_{n=1}^{N} \\left(\\sqrt{r_n} t_n - \\sqrt{r_n} \\vec\\omega^T \\phi \\left( x_n \\right) \\right) ^2 \\\\\n",
    "&= \\sum_{n=1}^{N} \\left(\\sqrt{r_n} t_n - \\sqrt{r_n} \\phi \\left( x_n \\right)^T \\vec\\omega \\right) ^2 \\\\\n",
    "\\end{align}"
   ]
  },
  {
   "cell_type": "markdown",
   "metadata": {},
   "source": [
    "Ich definiere $\\tilde t_n$ und $\\tilde \\phi \\left( x_n \\right)$ wie folgt:  \n",
    "$\\tilde t_n := \\sqrt{r_n} t_n$  \n",
    "$\\tilde \\phi \\left( x_n \\right) := \\sqrt{r_n}\\phi \\left( x_n \\right)$  \n",
    "und erhalte:\n",
    "$$\n",
    "E_D(\\vec\\omega) = \\sum_{n=1}^{N} \\left( \\tilde{t_n} - \\tilde\\phi \\left( x_n \\right)^T \\vec\\omega \\right) ^2  \n",
    "$$  \n",
    "Es müssen also lediglich alle Einträge $t_n$ und $\\phi \\left( x_n \\right)$ mit $\\sqrt{r_n}$\n",
    "multipliziert werden, bevor der quadratische Fehler minimiert wird.  \n",
    "Wie in Übung 2 ist $\\mathbf X$ die Designmatrix.  \n",
    "Zusätzlich führe ich die Matrix $\\mathbf R$ ein, als Diagonalmatrix mit den Einträgen $\\sqrt{r_n}$ ein:"
   ]
  },
  {
   "cell_type": "markdown",
   "metadata": {},
   "source": [
    "$$\n",
    "\\mathbf R =\n",
    "\\begin{pmatrix}\n",
    "\\sqrt r_1 &&\\Large 0\\\\\n",
    "&\\ddots &\\\\\n",
    "\\Large0&&\\sqrt r_n\\\\\n",
    "\\end{pmatrix}\n",
    "$$"
   ]
  },
  {
   "cell_type": "markdown",
   "metadata": {},
   "source": [
    "Aus Übung 2 ist die Pseudoinverse bekannt, durch die der ungewichtete quadratische Fehler minimiert wird:\n",
    "$$ \\vec \\omega^* = (\\mathbf{X}^T \\mathbf{X})^{-1} \\mathbf{X}^T \\vec t$$\n",
    "Um die Parameter $\\vec \\omega_{\\vec r}^*$ zu finden, die dengewichteten quadratischen Fehler\n",
    "minimieren, muss ich lediglich alle Einträge\n",
    "$t_n$ und $\\phi \\left( x_n \\right)$ mit $\\sqrt{r_n}$ multiplizieren:  \n",
    "\n",
    "$$\\vec{\\tilde t} := \\mathbf{R} \\vec t$$  (Vectorpfeil wird im Folgenden weggelasen)  \n",
    "$$\\mathbf{\\tilde X} := \\mathbf{RX}$$  \n",
    "\n",
    "Damit gilt:\n",
    "\n",
    "$$ \\vec \\omega_{\\vec r}^* = (\\mathbf{\\tilde X}^T \\mathbf{\\tilde X})^{-1} \\mathbf{\\tilde X}^T \\tilde t$$"
   ]
  },
  {
   "cell_type": "markdown",
   "metadata": {},
   "source": [
    "<font color='#1d478c'>\n",
    "und interpretiere die Parameter $r_n$ im Sinne von (1) datenabhängiger Unsicherheit\n",
    "</font>"
   ]
  },
  {
   "cell_type": "markdown",
   "metadata": {},
   "source": [
    "Wenn Unsicherheiten als Varianten $\\sigma_n^2$ bzw.\n",
    "als Präzisionen $\\beta_n = \\frac{1}{\\sigma_n^2}$ der Datenpunkte bekannt sind,\n",
    "kann $\\beta_n$ als Gewicht verwendet werden. Somit haben sichere Datenpunkte\n",
    "einen höheren Einfluss auf $\\vec \\omega^*$."
   ]
  },
  {
   "cell_type": "markdown",
   "metadata": {},
   "source": [
    "<font color='#1d478c'>\n",
    "Duplikationen von Datenpunktion\n",
    "</font>"
   ]
  },
  {
   "cell_type": "markdown",
   "metadata": {},
   "source": [
    "Duplizierte Datenpunkte, entsprechend doppelt gewertet werden sollen,\n",
    "können durch einen Datenpunkt ersetzt werden, dessen Gewicht doppelt so hoch ist.\n",
    "Das hilft, den Datensatz zu komprimieren."
   ]
  },
  {
   "cell_type": "markdown",
   "metadata": {},
   "source": [
    "# Task 3.2 Gewichteter Fehler praktisch:\n",
    "<font color='#1d478c'>\n",
    "Verwenden Sie nun den Datensatz der Regressionsaufgabe von Blatt zwei\n",
    "und gewichten Sie die Punkte bei input $-\\frac{1}{2}$ und $\\frac{1}{2}$ doppelt, 10-fach, 100-fach.\n",
    "Dazu können Sie das publizierte Matlab-Script leicht verändern.  \n",
    "</font>"
   ]
  },
  {
   "cell_type": "code",
   "execution_count": 2,
   "metadata": {},
   "outputs": [],
   "source": [
    "import pandas as pd\n",
    "import numpy as np\n",
    "from numpy import sqrt, diag\n",
    "from functools import partial\n",
    "from helpers import load_dataset, plot, plot_df, design_mat_polynomial, get_y, plot_weights\n",
    "from numpy.linalg import pinv as pseudoinverse # better precision than my implementation\n",
    "from scipy.stats import norm # pdf for normal distribution"
   ]
  },
  {
   "cell_type": "code",
   "execution_count": 3,
   "metadata": {},
   "outputs": [
    {
     "data": {
      "text/html": [
       "<div>\n",
       "<style scoped>\n",
       "    .dataframe tbody tr th:only-of-type {\n",
       "        vertical-align: middle;\n",
       "    }\n",
       "\n",
       "    .dataframe tbody tr th {\n",
       "        vertical-align: top;\n",
       "    }\n",
       "\n",
       "    .dataframe thead th {\n",
       "        text-align: right;\n",
       "    }\n",
       "</style>\n",
       "<table border=\"1\" class=\"dataframe\">\n",
       "  <thead>\n",
       "    <tr style=\"text-align: right;\">\n",
       "      <th></th>\n",
       "      <th>0</th>\n",
       "      <th>1</th>\n",
       "      <th>2</th>\n",
       "      <th>3</th>\n",
       "      <th>4</th>\n",
       "      <th>5</th>\n",
       "      <th>6</th>\n",
       "      <th>7</th>\n",
       "      <th>8</th>\n",
       "    </tr>\n",
       "  </thead>\n",
       "  <tbody>\n",
       "    <tr>\n",
       "      <th>x</th>\n",
       "      <td>-1.0</td>\n",
       "      <td>-0.75</td>\n",
       "      <td>-0.5</td>\n",
       "      <td>-0.25</td>\n",
       "      <td>0.00</td>\n",
       "      <td>0.25</td>\n",
       "      <td>0.5</td>\n",
       "      <td>0.75</td>\n",
       "      <td>1.0</td>\n",
       "    </tr>\n",
       "    <tr>\n",
       "      <th>y</th>\n",
       "      <td>-1.0</td>\n",
       "      <td>0.10</td>\n",
       "      <td>0.6</td>\n",
       "      <td>0.50</td>\n",
       "      <td>-0.05</td>\n",
       "      <td>-0.50</td>\n",
       "      <td>-0.7</td>\n",
       "      <td>-0.20</td>\n",
       "      <td>1.0</td>\n",
       "    </tr>\n",
       "    <tr>\n",
       "      <th>weight_x1</th>\n",
       "      <td>1.0</td>\n",
       "      <td>1.00</td>\n",
       "      <td>1.0</td>\n",
       "      <td>1.00</td>\n",
       "      <td>1.00</td>\n",
       "      <td>1.00</td>\n",
       "      <td>1.0</td>\n",
       "      <td>1.00</td>\n",
       "      <td>1.0</td>\n",
       "    </tr>\n",
       "    <tr>\n",
       "      <th>weight_x2</th>\n",
       "      <td>1.0</td>\n",
       "      <td>1.00</td>\n",
       "      <td>2.0</td>\n",
       "      <td>1.00</td>\n",
       "      <td>1.00</td>\n",
       "      <td>1.00</td>\n",
       "      <td>2.0</td>\n",
       "      <td>1.00</td>\n",
       "      <td>1.0</td>\n",
       "    </tr>\n",
       "    <tr>\n",
       "      <th>weight_x10</th>\n",
       "      <td>1.0</td>\n",
       "      <td>1.00</td>\n",
       "      <td>10.0</td>\n",
       "      <td>1.00</td>\n",
       "      <td>1.00</td>\n",
       "      <td>1.00</td>\n",
       "      <td>10.0</td>\n",
       "      <td>1.00</td>\n",
       "      <td>1.0</td>\n",
       "    </tr>\n",
       "    <tr>\n",
       "      <th>weight_x100</th>\n",
       "      <td>1.0</td>\n",
       "      <td>1.00</td>\n",
       "      <td>100.0</td>\n",
       "      <td>1.00</td>\n",
       "      <td>1.00</td>\n",
       "      <td>1.00</td>\n",
       "      <td>100.0</td>\n",
       "      <td>1.00</td>\n",
       "      <td>1.0</td>\n",
       "    </tr>\n",
       "  </tbody>\n",
       "</table>\n",
       "</div>"
      ],
      "text/plain": [
       "               0     1      2     3     4     5      6     7    8\n",
       "x           -1.0 -0.75   -0.5 -0.25  0.00  0.25    0.5  0.75  1.0\n",
       "y           -1.0  0.10    0.6  0.50 -0.05 -0.50   -0.7 -0.20  1.0\n",
       "weight_x1    1.0  1.00    1.0  1.00  1.00  1.00    1.0  1.00  1.0\n",
       "weight_x2    1.0  1.00    2.0  1.00  1.00  1.00    2.0  1.00  1.0\n",
       "weight_x10   1.0  1.00   10.0  1.00  1.00  1.00   10.0  1.00  1.0\n",
       "weight_x100  1.0  1.00  100.0  1.00  1.00  1.00  100.0  1.00  1.0"
      ]
     },
     "metadata": {},
     "output_type": "display_data"
    }
   ],
   "source": [
    "\"\"\" returns weight vector with all ones except the indices of x that are in selection. \"\"\"\n",
    "def get_weights(x, selection, selection_weight):\n",
    "    return selection_weight**x.isin(selection)\n",
    "df = load_dataset()\n",
    "for factor in [1, 2, 10, 100]:\n",
    "    df['weight_x{}'.format(factor)] = get_weights(df.x, [-.5, .5], factor)\n",
    "display(df.T)"
   ]
  },
  {
   "cell_type": "markdown",
   "metadata": {},
   "source": [
    "Zusätzlich verschiebe ich den Datenpunkt bei $x= -\\frac{1}{2}$ um $0.3$,\n",
    "damit der Einfluss der Gewichte gut sichtbar ist."
   ]
  },
  {
   "cell_type": "code",
   "execution_count": 4,
   "metadata": {},
   "outputs": [
    {
     "data": {
      "text/html": [
       "<div>\n",
       "<style scoped>\n",
       "    .dataframe tbody tr th:only-of-type {\n",
       "        vertical-align: middle;\n",
       "    }\n",
       "\n",
       "    .dataframe tbody tr th {\n",
       "        vertical-align: top;\n",
       "    }\n",
       "\n",
       "    .dataframe thead th {\n",
       "        text-align: right;\n",
       "    }\n",
       "</style>\n",
       "<table border=\"1\" class=\"dataframe\">\n",
       "  <thead>\n",
       "    <tr style=\"text-align: right;\">\n",
       "      <th></th>\n",
       "      <th>0</th>\n",
       "      <th>1</th>\n",
       "      <th>2</th>\n",
       "      <th>3</th>\n",
       "      <th>4</th>\n",
       "      <th>5</th>\n",
       "      <th>6</th>\n",
       "      <th>7</th>\n",
       "      <th>8</th>\n",
       "    </tr>\n",
       "  </thead>\n",
       "  <tbody>\n",
       "    <tr>\n",
       "      <th>x</th>\n",
       "      <td>-1.0</td>\n",
       "      <td>-0.75</td>\n",
       "      <td>-0.5</td>\n",
       "      <td>-0.25</td>\n",
       "      <td>0.00</td>\n",
       "      <td>0.25</td>\n",
       "      <td>0.5</td>\n",
       "      <td>0.75</td>\n",
       "      <td>1.0</td>\n",
       "    </tr>\n",
       "    <tr>\n",
       "      <th>y</th>\n",
       "      <td>-1.0</td>\n",
       "      <td>0.10</td>\n",
       "      <td>0.9</td>\n",
       "      <td>0.50</td>\n",
       "      <td>-0.05</td>\n",
       "      <td>-0.50</td>\n",
       "      <td>-0.7</td>\n",
       "      <td>-0.20</td>\n",
       "      <td>1.0</td>\n",
       "    </tr>\n",
       "    <tr>\n",
       "      <th>weight_x1</th>\n",
       "      <td>1.0</td>\n",
       "      <td>1.00</td>\n",
       "      <td>1.0</td>\n",
       "      <td>1.00</td>\n",
       "      <td>1.00</td>\n",
       "      <td>1.00</td>\n",
       "      <td>1.0</td>\n",
       "      <td>1.00</td>\n",
       "      <td>1.0</td>\n",
       "    </tr>\n",
       "    <tr>\n",
       "      <th>weight_x2</th>\n",
       "      <td>1.0</td>\n",
       "      <td>1.00</td>\n",
       "      <td>2.0</td>\n",
       "      <td>1.00</td>\n",
       "      <td>1.00</td>\n",
       "      <td>1.00</td>\n",
       "      <td>2.0</td>\n",
       "      <td>1.00</td>\n",
       "      <td>1.0</td>\n",
       "    </tr>\n",
       "    <tr>\n",
       "      <th>weight_x10</th>\n",
       "      <td>1.0</td>\n",
       "      <td>1.00</td>\n",
       "      <td>10.0</td>\n",
       "      <td>1.00</td>\n",
       "      <td>1.00</td>\n",
       "      <td>1.00</td>\n",
       "      <td>10.0</td>\n",
       "      <td>1.00</td>\n",
       "      <td>1.0</td>\n",
       "    </tr>\n",
       "    <tr>\n",
       "      <th>weight_x100</th>\n",
       "      <td>1.0</td>\n",
       "      <td>1.00</td>\n",
       "      <td>100.0</td>\n",
       "      <td>1.00</td>\n",
       "      <td>1.00</td>\n",
       "      <td>1.00</td>\n",
       "      <td>100.0</td>\n",
       "      <td>1.00</td>\n",
       "      <td>1.0</td>\n",
       "    </tr>\n",
       "  </tbody>\n",
       "</table>\n",
       "</div>"
      ],
      "text/plain": [
       "               0     1      2     3     4     5      6     7    8\n",
       "x           -1.0 -0.75   -0.5 -0.25  0.00  0.25    0.5  0.75  1.0\n",
       "y           -1.0  0.10    0.9  0.50 -0.05 -0.50   -0.7 -0.20  1.0\n",
       "weight_x1    1.0  1.00    1.0  1.00  1.00  1.00    1.0  1.00  1.0\n",
       "weight_x2    1.0  1.00    2.0  1.00  1.00  1.00    2.0  1.00  1.0\n",
       "weight_x10   1.0  1.00   10.0  1.00  1.00  1.00   10.0  1.00  1.0\n",
       "weight_x100  1.0  1.00  100.0  1.00  1.00  1.00  100.0  1.00  1.0"
      ]
     },
     "metadata": {},
     "output_type": "display_data"
    }
   ],
   "source": [
    "df.loc[df.x==-1/2, 'y'] += 0.3\n",
    "display(df.T)"
   ]
  },
  {
   "cell_type": "code",
   "execution_count": 5,
   "metadata": {},
   "outputs": [],
   "source": [
    "def polyfit(x, y, order=3, weights=None):\n",
    "    x, y = [np.array(a).reshape(-1, 1) for a in [x, y]]\n",
    "    weight_mat = np.eye(len(x)) if weights is None else diag(sqrt(np.array(weights)))\n",
    "    design_mat = weight_mat @ design_mat_polynomial(x, order)\n",
    "    y = weight_mat @ y\n",
    "    params = pseudoinverse(design_mat) @ y\n",
    "    return params.reshape(-1, 1)"
   ]
  },
  {
   "cell_type": "code",
   "execution_count": 6,
   "metadata": {},
   "outputs": [
    {
     "data": {
      "image/png": "[encoded data removed]",
      "text/plain": [
       "<Figure size 432x288 with 1 Axes>"
      ]
     },
     "metadata": {},
     "output_type": "display_data"
    }
   ],
   "source": [
    "polyfit_weighted = partial(polyfit, df.x, df.y, order=3)\n",
    "w_cols = [col for col in df.columns if 'weight' in col]\n",
    "coeff_dict = {col : polyfit_weighted(weights=df[col]) for col in w_cols}\n",
    "plot_df(df, coeff_dict)"
   ]
  },
  {
   "cell_type": "markdown",
   "metadata": {},
   "source": [
    "<font color='#1d478c'>\n",
    "Verwenden Sie wieder Polynome zur Approximation und variieren Sie den Grad.  \n",
    "Was erwarten Sie, wie wird sich das optimale Modell mit der Wahl des Polynomgrades ändern wird?  \n",
    "</font>"
   ]
  },
  {
   "cell_type": "markdown",
   "metadata": {},
   "source": [
    "Je höher der Grad, desto kleiner die Abweichung zu den Datenpunkten.\n",
    "Allerdings führt ein hoher Grad zu kleinen \"Schlenkern\" und vielen Extrempunkten,\n",
    "generalisiert also schlecht."
   ]
  },
  {
   "cell_type": "code",
   "execution_count": 7,
   "metadata": {},
   "outputs": [
    {
     "data": {
      "image/png": "[encoded data removed]",
      "text/plain": [
       "<Figure size 432x288 with 1 Axes>"
      ]
     },
     "metadata": {},
     "output_type": "display_data"
    }
   ],
   "source": [
    "orders = [0, 2, 3, 8]\n",
    "order_coeff_dict = {\"order={}\".format(o) : polyfit(df.x, df.y, order=o, weights=df.weight_x100) for o in orders}\n",
    "plot_df(df, order_coeff_dict)"
   ]
  },
  {
   "cell_type": "markdown",
   "metadata": {},
   "source": [
    "<font color='#1d478c'>\n",
    "Gewichten Sie dann auch noch den Punkt bei Eingabe $-1$ höher.\n",
    "</font>"
   ]
  },
  {
   "cell_type": "code",
   "execution_count": 8,
   "metadata": {},
   "outputs": [
    {
     "data": {
      "image/png": "[encoded data removed]",
      "text/plain": [
       "<Figure size 432x288 with 1 Axes>"
      ]
     },
     "metadata": {},
     "output_type": "display_data"
    }
   ],
   "source": [
    "weights = get_weights(df.x, [-.5, 0, .5], 100)\n",
    "reference = 'order=3'\n",
    "coeff_dict = {reference : order_coeff_dict[reference]}\n",
    "coeff_dict['weight_at_0'] = polyfit(df.x, df.y, order=3, weights=weights)\n",
    "plot_df(df, coeff_dict)"
   ]
  },
  {
   "cell_type": "markdown",
   "metadata": {},
   "source": [
    "<font color='#1d478c'>\n",
    "Was ändert sich?\n",
    "</font>"
   ]
  },
  {
   "cell_type": "markdown",
   "metadata": {},
   "source": [
    "Das Modell geht nun auch (zumindest beinah) durch den Ursprung."
   ]
  },
  {
   "cell_type": "markdown",
   "metadata": {},
   "source": [
    "<font color='#1d478c'>\n",
    "Welche Form wird das optimale Modell haben und warum?  \n",
    "</font>"
   ]
  },
  {
   "cell_type": "markdown",
   "metadata": {},
   "source": [
    "Ein optimales Modell gibt es nicht.\n",
    "Ein Polynom 8. Grades geht durch alle Datenpunkte, würde die Fehlerfunktion also minimieren,\n",
    "generalisiert aber schlecht.  \n",
    "Z.B. das Polynom 3. Grades stellt einen guten Kompromiss aus Underfitting und Overfitting dar."
   ]
  },
  {
   "cell_type": "markdown",
   "metadata": {},
   "source": [
    "# Task 3.3 Gewichteter Fehler: multiple lokale Modelle:\n",
    "<font color='#1d478c'>\n",
    "Nehmen Sie nun an, Sie generieren die Gewichte $r_n$ aus einer Gaussfunktion\n",
    "mit einer Varianz $\\beta^2$ (z.B. $\\beta^2 = 1$) und Mittelwert $\\mu$.\n",
    "</font>"
   ]
  },
  {
   "cell_type": "markdown",
   "metadata": {},
   "source": [
    "<font color='#1d478c'>\n",
    "Welchen Effekt hat das auf die Modellierung?  \n",
    "</font>"
   ]
  },
  {
   "cell_type": "markdown",
   "metadata": {},
   "source": [
    "Der Einfluss der Datenpunkte auf die Modellparameter fällt mit dem Abstand zum Mittelwert ab.  \n",
    "Es ist, als würde das Modell die Daten in der \"Nähe\" besser sehen, als die weit entfernten Samples."
   ]
  },
  {
   "cell_type": "markdown",
   "metadata": {},
   "source": [
    "<font color='#1d478c'>\n",
    "Überlegen Sie dazu, welche Datenpunkte jeweils wichtig sind,\n",
    "wenn $\\mu = −\\frac{1}{2}, 0, \\frac{1}{2}$ ist. \n",
    "</font>"
   ]
  },
  {
   "cell_type": "markdown",
   "metadata": {},
   "source": [
    "Wichtig sind die Datenpunke, die nahe an dem jeweiligen Mittelpunkt liegen."
   ]
  },
  {
   "cell_type": "markdown",
   "metadata": {},
   "source": [
    "$\\beta^2 = 1$ scheint kein guter Wert zu sein.  \n",
    "Ich nehme $\\beta = 0.3$ und verschiebe zusätzlich die ersten\n",
    "drei Datenpunkte um $0.2$ nach unten."
   ]
  },
  {
   "cell_type": "code",
   "execution_count": 9,
   "metadata": {},
   "outputs": [],
   "source": [
    "df = load_dataset() # reset"
   ]
  },
  {
   "cell_type": "markdown",
   "metadata": {},
   "source": [
    "<font color='#1d478c'>\n",
    "Diese Überlegungen legen nahe, das Datenmodell als Summe mehrerer lokaler Modelle zu wählen.\n",
    "Wie könnten diese lokalen Modelle aussehen, wenn wir Gaussgewichtungen mit\n",
    "$\\mu_1 = −\\frac{1}{2}$ und $\\mu_2 = \\frac{1}{2}$\n",
    "und das Gesamtmodell als Summe von zwei lokalen Modellen wählen?  \n",
    "</font>"
   ]
  },
  {
   "cell_type": "markdown",
   "metadata": {},
   "source": [
    "Es müssten Parabeln genügen, da jedes Modell nur einen Teil abbilden muss und sich der Datensatz recht gut  \n",
    "als zwei aneinander gelegte Parabeln beschreiben lässt"
   ]
  },
  {
   "cell_type": "code",
   "execution_count": 10,
   "metadata": {},
   "outputs": [],
   "source": [
    "import matplotlib.pyplot as plt\n",
    "from collections import namedtuple\n",
    "from functools import partial"
   ]
  },
  {
   "cell_type": "code",
   "execution_count": 11,
   "metadata": {},
   "outputs": [],
   "source": [
    "LocalModel = namedtuple('LocalModel', 'coeffs,distribution'.split(','))\n",
    "\n",
    "# evaluate the prediction of the model ensemble at the point x\n",
    "def combine_local_models(models, x):\n",
    "    # calc weights at x (proportional to each pdf and summing to 1)\n",
    "    weights = np.array([m.distribution.pdf(x) for m in models])\n",
    "    weights /=  weights.sum()\n",
    "    results = np.array([get_y(model.coeffs, np.array(x)) for model in models])\n",
    "    return (results.ravel() * weights.ravel()).sum()\n",
    "\n",
    "# plot model enseble along with data samples (x,y)\n",
    "def plot_local_models(x, y, models, combination_only=False, **kwargs): # kwargs are passt through\n",
    "    combine_models = np.vectorize(partial(combine_local_models, models)) # to be called on arrays\n",
    "    xmin, xmax = min(x), max(x)\n",
    "    n_samples = 200\n",
    "    ax = plt.gca()\n",
    "    if not combination_only:\n",
    "        for model in models:\n",
    "            label = 'mean={}'.format(model.distribution.mean())\n",
    "            plot_weights(model.coeffs, label, xmin, xmax, ax, ls='--')\n",
    "    xs = np.linspace(xmin, xmax, n_samples)\n",
    "    ys = combine_models(xs)\n",
    "    ax.plot(xs, ys, label='combined local models', lw=3, **kwargs)\n",
    "    ax.scatter(x, y, label='samples', marker='X', zorder=10)\n",
    "    plt.legend(loc='center left', bbox_to_anchor=(1, 0.5))"
   ]
  },
  {
   "cell_type": "code",
   "execution_count": 12,
   "metadata": {},
   "outputs": [
    {
     "data": {
      "image/png": "[encoded data removed]",
      "text/plain": [
       "<Figure size 432x288 with 1 Axes>"
      ]
     },
     "metadata": {},
     "output_type": "display_data"
    }
   ],
   "source": [
    "order = 2\n",
    "sigma = 0.2\n",
    "means = [-1/2, 1/2]\n",
    "dists = [norm(mean, sigma) for mean in means]\n",
    "coeffs = [polyfit(df.x, df.y, order, d.pdf(df.x)) for d in dists]\n",
    "models = [LocalModel(*tupel) for tupel in zip(coeffs, dists)]\n",
    "plot_local_models(df.x, df.y, models)"
   ]
  },
  {
   "cell_type": "markdown",
   "metadata": {},
   "source": [
    "<font color='#1d478c'>\n",
    "Wie, wenn man drei lokale Modelle verwenden wollte?  \n",
    "</font>"
   ]
  },
  {
   "cell_type": "markdown",
   "metadata": {},
   "source": [
    "Dann könnte man es sogar mit Geraden versuchen:"
   ]
  },
  {
   "cell_type": "code",
   "execution_count": 13,
   "metadata": {},
   "outputs": [
    {
     "data": {
      "image/png": "[encoded data removed]",
      "text/plain": [
       "<Figure size 432x288 with 1 Axes>"
      ]
     },
     "metadata": {},
     "output_type": "display_data"
    }
   ],
   "source": [
    "order = 1\n",
    "sigma = 0.2\n",
    "means = [-0.8, 0, 0.8]\n",
    "dists = [norm(mean, sigma) for mean in means]\n",
    "coeffs = [polyfit(df.x, df.y, order, d.pdf(df.x)) for d in dists]\n",
    "models = [LocalModel(*tupel) for tupel in zip(coeffs, dists)]\n",
    "plot_local_models(df.x, df.y, models)"
   ]
  },
  {
   "cell_type": "markdown",
   "metadata": {},
   "source": [
    "Extremfall:\n",
    "9 Gewichte (je eines pro Datenpunkt), Grad 2 und kleines $\\sigma^2$"
   ]
  },
  {
   "cell_type": "code",
   "execution_count": 14,
   "metadata": {},
   "outputs": [
    {
     "data": {
      "image/png": "[encoded data removed]",
      "text/plain": [
       "<Figure size 432x288 with 1 Axes>"
      ]
     },
     "metadata": {},
     "output_type": "display_data"
    }
   ],
   "source": [
    "order = 1\n",
    "sigma = 0.1\n",
    "means = np.linspace(-1, 1, 9)\n",
    "dists = [norm(mean, sigma) for mean in means]\n",
    "coeffs = [polyfit(df.x, df.y, order, d.pdf(df.x)) for d in dists]\n",
    "models = [LocalModel(*tupel) for tupel in zip(coeffs, dists)]\n",
    "plot_local_models(df.x, df.y, models, combination_only=True, color='r')"
   ]
  },
  {
   "cell_type": "markdown",
   "metadata": {},
   "source": [
    "<font color='#1d478c'>\n",
    "Wo sollten dann die drei Mittelpunkte $\\mu_1$, $\\mu_2$, $\\mu_3$\n",
    "für die jeweiligen Gaussfunktionen liegen,\n",
    "mit denen die Gewichte erzeugt werden, und was für ein Modell\n",
    "(d.h. welche Wahl der jeweiligen Polynomgrade) wäre sinnvoll?  \n",
    "</font>"
   ]
  },
  {
   "cell_type": "markdown",
   "metadata": {},
   "source": [
    "# Task 3.4 Gradientenberechnungen für $\\text{tanh}$:\n",
    "<font color='#1d478c'>\n",
    "Zeige, dass gilt:  \n",
    "$$\n",
    "f(s) = \\text{tanh}(\\beta s) \\rightarrow f^\\prime(s) = \\beta (1 − f (s)^2)\n",
    "$$\n",
    "</font>"
   ]
  },
  {
   "cell_type": "markdown",
   "metadata": {},
   "source": [
    "Ich betrachte zunächst $g(x) = \\text{tanh}(x)$ "
   ]
  },
  {
   "cell_type": "markdown",
   "metadata": {},
   "source": [
    "\\begin{align}\n",
    "\\text{tanh}(x) &= \\frac{e^{2x}-1}{e^{2x}+1}\\\\\n",
    "&=\\frac{e^{2x}-1}{e^{2x}+1} \\frac{e^{-x}}{e^{-x}}\\\\\n",
    "&=\\frac{e^x-e^{-x}}{e^x + e^{-x}}\\\\\n",
    "\\end{align}"
   ]
  },
  {
   "cell_type": "markdown",
   "metadata": {},
   "source": [
    "Ich wende die Quotientenregel an und erhalte:"
   ]
  },
  {
   "cell_type": "markdown",
   "metadata": {},
   "source": [
    "\\begin{align}\n",
    "\\rightarrow \\frac{\\partial}{\\partial x} tanh &=\n",
    "\\frac{\n",
    "\\left(e^x + e^{-x}\\right)\n",
    "\\left(e^x + e^{-x}\\right)-\n",
    "\\left(e^x - e^{-x}\\right)\n",
    "\\left(e^x - e^{-x}\\right)\n",
    "}{\n",
    "\\left(e^x -e^{-x}\\right)^2\n",
    "}\\\\\n",
    "&= 1 - \n",
    "\\frac{\n",
    "\\left(e^x - e^{-x}\\right)\n",
    "\\left(e^x - e^{-x}\\right)\n",
    "}{\n",
    "\\left(e^x -e^{-x}\\right)^2\n",
    "}\\\\\n",
    "&= 1-\\text{tanh}(x)^2\\\\\n",
    "\\end{align}"
   ]
  },
  {
   "cell_type": "markdown",
   "metadata": {},
   "source": [
    "Dann wende ich die Kettenregel an und erhalte:"
   ]
  },
  {
   "cell_type": "markdown",
   "metadata": {},
   "source": [
    "\\begin{align}\n",
    "f^\\prime(s) &= \\text{tanh}^\\prime(\\beta s) \\frac{\\partial\\beta x}{\\partial x}\\\\\n",
    "&= \\beta \\left(1 − \\text{tanh}(\\beta s)^2\\right)\\\\\n",
    "&= \\beta (1 − f (s)^2)\\\\\n",
    "\\end{align}"
   ]
  },
  {
   "cell_type": "markdown",
   "metadata": {},
   "source": [
    "<font color='#1d478c'>\n",
    "Berechne dann den Gradienten der folgenden Fehler-funktion:\n",
    "$$\n",
    "\\nabla _{\\vec\\omega_i} E(\\vec\\omega) = \n",
    "\\nabla _{\\vec\\omega_i} \\frac 12 \\sum_{n=1}^{N} \\left(\n",
    "t_n - \\text{tanh}\\left(\n",
    "\\sum_{d=1}^D \\omega_d x_d\n",
    "\\right)\n",
    "\\right)^2\n",
    "$$\n",
    "wobei wir einen einen $D$-dimensionalen Eingabevektor $\\vec x \\in \\mathbf R^D$\n",
    "und eindimensionale Ausgabe $y$ annehmen.\n",
    "</font>"
   ]
  },
  {
   "cell_type": "markdown",
   "metadata": {},
   "source": [
    "Ansatz: Kettenregel!"
   ]
  }
 ],
 "metadata": {
  "kernelspec": {
   "display_name": "Python 3",
   "language": "python",
   "name": "python3"
  },
  "language_info": {
   "codemirror_mode": {
    "name": "ipython",
    "version": 3
   },
   "file_extension": ".py",
   "mimetype": "text/x-python",
   "name": "python",
   "nbconvert_exporter": "python",
   "pygments_lexer": "ipython3",
   "version": "3.7.2"
  }
 },
 "nbformat": 4,
 "nbformat_minor": 2
}
