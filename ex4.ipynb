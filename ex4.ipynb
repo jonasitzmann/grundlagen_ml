{
 "cells": [
  {
   "cell_type": "markdown",
   "metadata": {},
   "source": [
    "Blatt 4\n",
    "---\n",
    "\n",
    "Übungstermin: 17. 05. 2017"
   ]
  },
  {
   "cell_type": "markdown",
   "metadata": {},
   "source": [
    "## Task 4.1 Cramer-Rao Schranke am Boccia-Beispiel:\n",
    "<font color='#0d2b5b'>\n",
    "\n",
    "Betrachten Sie das Boccia-Datenmodell aus dem Vorlesungsskript mit $y_i = wx2 + \\nu_i$ mit konstanter\n",
    "Anfangsgeschwindigkeit $x = 0.5$ und dem Schätzer\n",
    "\n",
    "$$\\hat\\omega= \\frac 1N \\sum_{i=1}^N \\frac{y_i}{x^2}$$\n",
    "\n",
    "Dabei sei $\\nu_i \\sim \\mathcal{N} (0, \\sigma^2)$ normalverteiltes Rauschen mit Varianz $\\sigma^2 = 0.1$.  \n",
    "\n",
    "</font>"
   ]
  },
  {
   "cell_type": "markdown",
   "metadata": {},
   "source": [
    "<font color='#0d2b5b'>\n",
    "\n",
    "Zeige experimentell über je $100$ Wiederholungen, dass für $N \\in \\{ 1, 2, 3, 5, 10, 100, 1000\\}$\n",
    "die Varianz der Schätzung, d.h. $Var(\\hat\\omega)$\n",
    "gegen die Cramer-Rao Schranke konvergiert.\n",
    "Plotte dazu $Var(\\hat\\omega)$ und \n",
    "$\\frac{\\sigma^2}{Nx^2}$\n",
    "in Abhängigkeit von $N$.  \n",
    "\n",
    "</font>"
   ]
  },
  {
   "cell_type": "markdown",
   "metadata": {},
   "source": [
    "<font color='#1d478c'>\n",
    "\n",
    "Wie verändern sich die Schranke und die Schätzungen bei Variation von $\\sigma^2$.  \n",
    "\n",
    "</font>"
   ]
  },
  {
   "cell_type": "markdown",
   "metadata": {},
   "source": [
    "## Task 4.2 Regularisierte Polynom-Regression:\n",
    "<font color='#1d478c'>\n",
    "\n",
    "\n",
    "Berechnen Sie die Regressionsformel für die quadratische Fehlerfunktion\n",
    "\n",
    "$$\n",
    "E = \\frac12 \\sum_{i=1}^N \\left( y(x_i) - \\hat y(x_i)\\right)^2\n",
    "+\\lambda \\frac12 \\sum_{m=0}^M \\hat\\omega_m^2 \\left(e^m-1\\right)\n",
    "$$\n",
    "mit speziellem Regularisierungsterm gewichtet mit Parameter $\\lambda$ für einen Polynomapproximator\n",
    "\n",
    "\n",
    "$$\n",
    "\\hat y(x) = \\sum_{m_0}^M \\hat\\omega_m^m\n",
    "$$\n",
    ".  \n",
    "\n",
    "</font>"
   ]
  },
  {
   "cell_type": "markdown",
   "metadata": {},
   "source": [
    "<font color='#1d478c'>\n",
    "\n",
    "Welche Idee steckt hinter diesem speziellem Regularisierungsansatz und wie wirkt sich die Regularisierung\n",
    "auf die Lösungen der Regression aus?\n",
    "\n",
    "</font>"
   ]
  },
  {
   "cell_type": "markdown",
   "metadata": {},
   "source": [
    "## Task 4.3 Bias-Varianz Dilemma am Beispiel der Polynom-Regression:\n",
    "<font color='#1d478c'>\n",
    "\n",
    "Untersuchen Sie den Einfluss der oben eingeführten Regularisierung auf die Schätzgenauigkeit.  \n",
    "Als Datenmodell sei das Polynom $y(x, w) + \\nu$ gegeben mit wahren Parametern  \n",
    "$w_0 = 0.8$, $w_1 = 2.4$, $w_2 = −1.55$, $w_3 = −0.15$, $w_4 = 0.1$ und $\\nu \\sim\\mathcal{n} (0, \\omega^2 )$\n",
    "mit $\\omega^2 = 2$.  \n",
    "\n",
    "</font>"
   ]
  },
  {
   "cell_type": "markdown",
   "metadata": {},
   "source": [
    "<font color='#1d478c'>\n",
    "\n",
    "Schätzen Sie wiederholt Modellparameter $\\hat\\omega$ für Polynome 8-ten Grades mittels der regularisierten\n",
    "Regression aus Aufgabe 3.2. Erstellen Sie dazu $100$ Datensätze bestehend aus je $20$ Datenpunkten\n",
    "$(x_i , y(x_i ) + \\nu_i)$ mit uniform verteilten $x_i \\in [−5, 5]$ und wiederholen Sie die Schätzung der Parameter\n",
    "für jeden Datensatz und Regularisierungen $\\lambda \\in {0, 10−5 , 10−4 , . . . , 105}$.  \n",
    "\n",
    "</font>"
   ]
  },
  {
   "cell_type": "markdown",
   "metadata": {},
   "source": [
    "<font color='#1d478c'>\n",
    "\n",
    "Welchen Einfluss hat $\\lambda$ auf die Aufteilung des Schätzfehlers $h||w − \\hat\\omega||^2_i$\n",
    "in Bias- und Varianz-Anteile?\n",
    "Plotten Sie dazu den Bias des Schätzers, d.h. $||h\\hat\\omega_i − w||$^2 ,\n",
    "sowie dessen Varianz $h||\\hat\\omega − h\\hat\\omega_i||$^2 i in Abhängigkeit von $\\lambda$.  \n",
    "\n",
    "</font>"
   ]
  }
 ],
 "metadata": {
  "kernelspec": {
   "display_name": "Python 3",
   "language": "python",
   "name": "python3"
  },
  "language_info": {
   "codemirror_mode": {
    "name": "ipython",
    "version": 3
   },
   "file_extension": ".py",
   "mimetype": "text/x-python",
   "name": "python",
   "nbconvert_exporter": "python",
   "pygments_lexer": "ipython3",
   "version": "3.7.2"
  }
 },
 "nbformat": 4,
 "nbformat_minor": 2
}
