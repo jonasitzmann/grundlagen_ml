{
 "cells": [
  {
   "cell_type": "markdown",
   "metadata": {},
   "source": [
    "Blatt 2\n",
    "--------\n",
    "**Übungen für Grundlagen Maschinelles Lernen**"
   ]
  },
  {
   "cell_type": "code",
   "execution_count": 3,
   "metadata": {},
   "outputs": [],
   "source": [
    "from __future__ import print_function\n",
    "from IPython.display import display\n",
    "import numpy as np\n",
    "from numpy.linalg import inv\n",
    "import matplotlib\n",
    "import matplotlib.pyplot as plt\n",
    "import pandas as pd\n",
    "from collections import namedtuple\n",
    "from IPython.core.display import HTML\n",
    "plt.style.use('seaborn')\n",
    "%matplotlib inline"
   ]
  },
  {
   "cell_type": "markdown",
   "metadata": {},
   "source": [
    "# Task 2.1 Von Likelihood zum quadratischen Fehler:\n",
    "Zeige durch explizite Rechnung, dass die Minimierung des $− LL(\\omega)$ ( negative log-Likelihood) auf den\n",
    "quadratischen Fehler führt (nehme an, der Logarithmus ist zur natürlichen Basis spezifiziert)."
   ]
  },
  {
   "cell_type": "markdown",
   "metadata": {},
   "source": [
    "\\begin{align}\n",
    "L &= \\prod_{n=1}^N\\frac{1}{\\sqrt{2\\pi \\sigma^2}}e^{-(y(\\vec{x_n}, \\omega)-t_n)^2 \\frac{1}{2\\sigma^2}} \\\\\n",
    "&= \\prod_{n=1}^N\\sqrt{\\frac{\\beta}{2\\pi}}e^{-(y(\\vec{x_n}, \\omega)-t_n)^2 \\frac{\\beta}{2}} \\\\\n",
    "&= \\left( \\frac{\\beta}{2\\pi} \\right)^{\\frac N2} \\prod_{n=1}^N e^{-(y(\\vec{x_n}, \\omega)-t_n)^2 \\frac{\\beta}{2}} \\\\\n",
    "\\leftrightarrow LL &= \\frac N2 \\left( \\ln \\beta - \\ln 2\\pi \\right) + \\sum_{n=1}^N -(y(\\vec{x_n}, \\omega)-t_n)^2 \\frac{\\beta}{2}\\\\\n",
    "&= \\frac N2 \\left( \\ln \\beta - \\ln 2\\pi \\right) + \\frac \\beta 2\\sum_{n=1}^N -(y(\\vec{x_n}, \\omega)-t_n)^2\\\\\n",
    "\\leftrightarrow -LL &= \\frac{\\beta}{2} \\sum_{n=1}^N (y(\\vec{x_n}, \\omega)-t_n)^2 + \\frac N2 \\ln \\beta - \\frac N2 \\ln{2\\pi}\\\\\n",
    "&= \\frac{\\beta}{2} E(\\omega) + \\frac N2 \\ln \\beta - \\frac N2 \\ln{2\\pi}\\\\\n",
    "\\end{align}"
   ]
  },
  {
   "cell_type": "markdown",
   "metadata": {},
   "source": [
    "Da $\\mathrm{argmin}$ invariant gegenüber Skalierung und Verschiebung ist:  \n",
    "$$\\omega_{ML} = \\underset{\\omega}{\\mathrm{argmin}}~E(\\omega)$$"
   ]
  },
  {
   "cell_type": "markdown",
   "metadata": {},
   "source": [
    "Zeige weiter, dass für die optimalen $\\omega_{ML}$ dann für die Minimierung bzgl. $\\beta$ gilt:  \n",
    "\n",
    "$$\\frac {1}{\\beta_{ML}} = \\frac 1N \\sum_{n=1}^N(y(\\vec{x_n}, \\omega) - t_n) ^2$$\n",
    "\n",
    "---"
   ]
  },
  {
   "cell_type": "markdown",
   "metadata": {},
   "source": [
    "\\begin{align}\n",
    "\\beta_{ML} &= \\underset{\\beta}{\\mathrm{argmin}} -LL \\\\\n",
    "&= \\underset{\\beta}{\\mathrm{argmin}} \\frac{\\beta}{2} \\sum_{n=1}^N (y(\\vec{x_n}, \\omega)-t_n)^2 + \\frac N2 \\ln \\beta - \\frac N2 \\ln{2\\pi} \\\\\n",
    "&= \\underset{\\beta}{\\mathrm{argmin}} \\frac{\\beta}{2} \\sum_{n=1}^N (y(\\vec{x_n}, \\omega)-t_n)^2 + \\frac N2 \\ln \\beta\\\\\n",
    "\\end{align}"
   ]
  },
  {
   "cell_type": "markdown",
   "metadata": {},
   "source": [
    "\\begin{align}\n",
    "&\\rightarrow \\nabla_{\\beta_{ML}} \\frac{\\beta_{ML}}{2} \\sum_{n=1}^N (y(\\vec{x_n}, \\omega)-t_n)^2 + \\nabla_{\\beta_{ML}} \\frac N2 \\ln \\beta_{ML} = 0\\\\\n",
    "&\\leftrightarrow  \\frac{1}{2} \\sum_{n=1}^N (y(\\vec{x_n}, \\omega)-t_n)^2 + \\frac N2 \\frac 1\\beta_{ML} = 0\\\\\n",
    "&\\leftrightarrow \\frac N2 \\frac 1\\beta_{ML} = \\frac{1}{2} \\sum_{n=1}^N (y(\\vec{x_n}, \\omega)-t_n)^2\\\\\n",
    "&\\leftrightarrow \\frac 1\\beta_{ML} = \\frac{1}{N} \\sum_{n=1}^N (y(\\vec{x_n}, \\omega)-t_n)^2\\\\\n",
    "\\end{align}"
   ]
  },
  {
   "cell_type": "markdown",
   "metadata": {},
   "source": [
    "# Task 2.2 Funktionsapproximation:"
   ]
  },
  {
   "cell_type": "markdown",
   "metadata": {},
   "source": [
    "Hilfsfunktionen:"
   ]
  },
  {
   "cell_type": "code",
   "execution_count": 4,
   "metadata": {},
   "outputs": [],
   "source": [
    "def design_mat_polynomial(x, m):\n",
    "    phi_x_T = np.array([\n",
    "        np.power(x.ravel(), order) for order in range(m+1)])\n",
    "    return phi_x_T.T\n",
    "\n",
    "def get_y(w, x):\n",
    "    w = np.array(w)\n",
    "    m = w.shape[0] - 1\n",
    "    phi_x = design_mat_polynomial(x, m)\n",
    "    y = phi_x @ w\n",
    "    return y\n",
    "\n",
    "def plot_weights(weights, label, x_min, x_max, ax):\n",
    "    n_samples = 200\n",
    "    xs = np.linspace(x_min, x_max, n_samples)\n",
    "    ys = get_y(weights, xs)\n",
    "    ax.plot(xs, ys, label=label)\n",
    "\n",
    "def plot(df, named_weights):\n",
    "    ax = plt.gca()\n",
    "    cols = df.columns\n",
    "    assert 'x' in cols, 'df must contain column \\'x\\''\n",
    "    if 'y' in cols:\n",
    "        ax.scatter(df.x, df.y, label='samples', marker='X')\n",
    "    if weights:\n",
    "        for label, w in named_weights.items():\n",
    "            plot_weights(w, label, min(df.x), max(df.x), ax)\n",
    "    ax.legend()"
   ]
  },
  {
   "cell_type": "markdown",
   "metadata": {},
   "source": [
    "Gegeben sie folgender Datensatz `df`, der durch Addition von Rauschen zur Funktion $y = 3x^3 − 2x$ generiert wurde:"
   ]
  },
  {
   "cell_type": "code",
   "execution_count": 13,
   "metadata": {},
   "outputs": [
    {
     "name": "stdout",
     "output_type": "stream",
     "text": [
      "Datensatz:\n"
     ]
    },
    {
     "data": {
      "text/html": [
       "<div>\n",
       "<style scoped>\n",
       "    .dataframe tbody tr th:only-of-type {\n",
       "        vertical-align: middle;\n",
       "    }\n",
       "\n",
       "    .dataframe tbody tr th {\n",
       "        vertical-align: top;\n",
       "    }\n",
       "\n",
       "    .dataframe thead th {\n",
       "        text-align: right;\n",
       "    }\n",
       "</style>\n",
       "<table border=\"1\" class=\"dataframe\">\n",
       "  <thead>\n",
       "    <tr style=\"text-align: right;\">\n",
       "      <th></th>\n",
       "      <th>0</th>\n",
       "      <th>1</th>\n",
       "      <th>2</th>\n",
       "      <th>3</th>\n",
       "      <th>4</th>\n",
       "      <th>5</th>\n",
       "      <th>6</th>\n",
       "      <th>7</th>\n",
       "      <th>8</th>\n",
       "    </tr>\n",
       "  </thead>\n",
       "  <tbody>\n",
       "    <tr>\n",
       "      <th>x</th>\n",
       "      <td>-1.0</td>\n",
       "      <td>-0.75</td>\n",
       "      <td>-0.5</td>\n",
       "      <td>-0.25</td>\n",
       "      <td>0.00</td>\n",
       "      <td>0.25</td>\n",
       "      <td>0.5</td>\n",
       "      <td>0.75</td>\n",
       "      <td>1.0</td>\n",
       "    </tr>\n",
       "    <tr>\n",
       "      <th>y</th>\n",
       "      <td>-1.0</td>\n",
       "      <td>0.10</td>\n",
       "      <td>0.6</td>\n",
       "      <td>0.50</td>\n",
       "      <td>-0.05</td>\n",
       "      <td>-0.50</td>\n",
       "      <td>-0.7</td>\n",
       "      <td>-0.20</td>\n",
       "      <td>1.0</td>\n",
       "    </tr>\n",
       "  </tbody>\n",
       "</table>\n",
       "</div>"
      ],
      "text/plain": [
       "     0     1    2     3     4     5    6     7    8\n",
       "x -1.0 -0.75 -0.5 -0.25  0.00  0.25  0.5  0.75  1.0\n",
       "y -1.0  0.10  0.6  0.50 -0.05 -0.50 -0.7 -0.20  1.0"
      ]
     },
     "metadata": {},
     "output_type": "display_data"
    },
    {
     "data": {
      "image/png": "[encoded data removed]",
      "text/plain": [
       "<Figure size 432x288 with 1 Axes>"
      ]
     },
     "metadata": {},
     "output_type": "display_data"
    }
   ],
   "source": [
    "# visualize dataset\n",
    "weights = {}\n",
    "weights['ground_truth'] = [0, -2, 0, 3]\n",
    "data = np.array([\n",
    "    [-1, -3/4, -1/2, -1/4, 0, 1/4, 1/2, 3/4, 1],\n",
    "    [-1,  0.1,  0.6,  0.5, -0.05 ,-0.5, -0.7, -0.2, 1]\n",
    "])\n",
    "n = data.size\n",
    "df = pd.DataFrame(data.T, columns=['x', 'y'])\n",
    "print(\"Datensatz:\")\n",
    "display(df.T) # transpose to save some space\n",
    "plot(df, weights)"
   ]
  },
  {
   "cell_type": "markdown",
   "metadata": {},
   "source": [
    "### Polinomial Fit\n",
    "Ich defiere $\\mathbf{X}$ als die polynomielle Designmatrix $m$-ten Grades von $\\vec{x} = [x_0, ... , x_n]^T$:  \n",
    "\n",
    "$$\\mathbf{X} = \\begin{pmatrix}\n",
    " x_1^0 & x_1^1 & \\cdots & x_1^m \\\\\n",
    " \\vdots& \\vdots & \\ddots & \\vdots \\\\\n",
    " x_n^0 & x_n^1 & \\cdots & x_n^m \\\\\n",
    "\\end{pmatrix}$$  \n",
    "\n",
    "Dann gilt für ein perfektes $\\vec{w}$:"
   ]
  },
  {
   "cell_type": "markdown",
   "metadata": {},
   "source": [
    "\\begin{align}\n",
    "\\vec{y} &= \\mathbf{X} \\vec{w}\\\\\n",
    "\\leftrightarrow \\mathbf{X^{-1}} \\vec{y} &= \\mathbf{X^{-1}} \\mathbf{X} \\vec{w}\\\\\n",
    "\\leftrightarrow \\mathbf{X^{-1}} \\vec{y} &= \\vec{w}  \n",
    "\\end{align}"
   ]
  },
  {
   "cell_type": "markdown",
   "metadata": {},
   "source": [
    "Jedoch ist $\\mathbf{X}$ allgemein nicht invertierbar (nichteinmal quadratisch).  \n",
    "Stattdessen nehme ich die\n",
    "[Moore-Penrose-Pseudoinverse](https://en.wikipedia.org/wiki/Moore%E2%80%93Penrose_inverse)\n",
    "$\\mathbf{X^+}$  \n",
    "\n",
    "$$\\mathbf{X^+} = (\\mathbf{X}^T \\mathbf{X})^{-1} \\mathbf{X}^T$$  \n",
    "\n",
    "Damit ergibt sich  \n",
    "$$\\vec{w}^* = \\mathbf{X^+} \\vec{y}$$ \n",
    "$$\\vec{y}^* = \\mathbf{X} \\vec{w}^*$$  \n",
    "Wobei $\\vec{y}^*$ die Projektion von $\\vec{y}$ auf den Spaltenraum von $\\mathbf{X}$ ist\n",
    "und somit den quadratischen Fehler $\\|\\vec{y}-\\vec{y}^*\\|^2$ minimiert."
   ]
  },
  {
   "cell_type": "code",
   "execution_count": 24,
   "metadata": {},
   "outputs": [],
   "source": [
    "def pseudoinverse(A):\n",
    "    return inv(A.T @ A) @ A.T\n",
    "    \n",
    "def polyfit(x, y, order=3, weights=None):\n",
    "    x = np.array(x).reshape(-1, 1)\n",
    "    y = np.array(y).reshape(-1, 1)\n",
    "    design_mat = design_mat_polynomial(x, order)\n",
    "    if not (weights is None):\n",
    "        weight_mat = np.diag(np.sqrt(np.array(weights)))\n",
    "        design_mat = weight_mat @ design_mat\n",
    "        y = weight_mat @ y\n",
    "    pinverse = pseudoinverse(design_mat)\n",
    "    params = (pinverse @ y).reshape([-1, 1])\n",
    "    return params"
   ]
  },
  {
   "cell_type": "markdown",
   "metadata": {},
   "source": [
    "Verwende zur Approximation ein Polynom vom Grad $M = 3$. Was erwarten Sie für die Werte der Parameter $w_0$ bis $w_3$ ?"
   ]
  },
  {
   "cell_type": "markdown",
   "metadata": {},
   "source": [
    "Gute Ergebnisse, da $M$ dem tatsächlichen Grad des Datenmodells entspricht, und (für das geringe Rauschen) relativ viele Daten vorliegen"
   ]
  },
  {
   "cell_type": "code",
   "execution_count": 21,
   "metadata": {},
   "outputs": [
    {
     "data": {
      "image/png": "[encoded data removed]",
      "text/plain": [
       "<Figure size 432x288 with 1 Axes>"
      ]
     },
     "metadata": {},
     "output_type": "display_data"
    }
   ],
   "source": [
    "weights['all_samples'] = polyfit(df.x, df.y, order=3)\n",
    "plot(df, weights)"
   ]
  },
  {
   "cell_type": "markdown",
   "metadata": {},
   "source": [
    "Approximieren Sie die Funktion indem Sie nur die Werte 1-4 der Tabelle verwenden. Was erwarten Sie\n",
    "jetzt für die Parameter?\n",
    "\n",
    "Ich erwarte einen perfekten Fit für die ersten vier Punkte, da ein Polynom 3. Grades durch vier Datenpunkte beschreiben werden kann.\n",
    "Jedoch wird das Modell schlecht auf die anderen Daten generalisieren"
   ]
  },
  {
   "cell_type": "code",
   "execution_count": 6,
   "metadata": {},
   "outputs": [
    {
     "data": {
      "image/png": "[encoded data removed]",
      "text/plain": [
       "<Figure size 432x288 with 1 Axes>"
      ]
     },
     "metadata": {},
     "output_type": "display_data"
    }
   ],
   "source": [
    "weights['first_4'] = polyfit(df[:4].x, df[:4].y, 3)\n",
    "plot(df, weights)"
   ]
  },
  {
   "cell_type": "markdown",
   "metadata": {},
   "source": [
    "Berechnen Sie die Werte für $w_i$. Für welche Wahl von vier Punkten erwarten Sie die beste Approximation ?"
   ]
  },
  {
   "cell_type": "code",
   "execution_count": 7,
   "metadata": {},
   "outputs": [
    {
     "data": {
      "text/html": [
       "<div>\n",
       "<style scoped>\n",
       "    .dataframe tbody tr th:only-of-type {\n",
       "        vertical-align: middle;\n",
       "    }\n",
       "\n",
       "    .dataframe tbody tr th {\n",
       "        vertical-align: top;\n",
       "    }\n",
       "\n",
       "    .dataframe thead th {\n",
       "        text-align: right;\n",
       "    }\n",
       "</style>\n",
       "<table border=\"1\" class=\"dataframe\">\n",
       "  <thead>\n",
       "    <tr style=\"text-align: right;\">\n",
       "      <th></th>\n",
       "      <th>x</th>\n",
       "      <th>y</th>\n",
       "      <th>y_gt</th>\n",
       "      <th>abs_err</th>\n",
       "    </tr>\n",
       "  </thead>\n",
       "  <tbody>\n",
       "    <tr>\n",
       "      <th>0</th>\n",
       "      <td>-1.00</td>\n",
       "      <td>-1.0</td>\n",
       "      <td>-1.000000</td>\n",
       "      <td>0.000000</td>\n",
       "    </tr>\n",
       "    <tr>\n",
       "      <th>8</th>\n",
       "      <td>1.00</td>\n",
       "      <td>1.0</td>\n",
       "      <td>1.000000</td>\n",
       "      <td>0.000000</td>\n",
       "    </tr>\n",
       "    <tr>\n",
       "      <th>2</th>\n",
       "      <td>-0.50</td>\n",
       "      <td>0.6</td>\n",
       "      <td>0.625000</td>\n",
       "      <td>0.025000</td>\n",
       "    </tr>\n",
       "    <tr>\n",
       "      <th>7</th>\n",
       "      <td>0.75</td>\n",
       "      <td>-0.2</td>\n",
       "      <td>-0.234375</td>\n",
       "      <td>0.034375</td>\n",
       "    </tr>\n",
       "  </tbody>\n",
       "</table>\n",
       "</div>"
      ],
      "text/plain": [
       "      x    y      y_gt   abs_err\n",
       "0 -1.00 -1.0 -1.000000  0.000000\n",
       "8  1.00  1.0  1.000000  0.000000\n",
       "2 -0.50  0.6  0.625000  0.025000\n",
       "7  0.75 -0.2 -0.234375  0.034375"
      ]
     },
     "metadata": {},
     "output_type": "display_data"
    }
   ],
   "source": [
    "# get the best 4 points (least squared distance to y_true)\n",
    "df['y_gt'] = get_y(weights['ground_truth'], df.x) \n",
    "df['abs_err'] = np.abs(df.y - df.y_gt)\n",
    "df_sorted = df.sort_values(by='abs_err')\n",
    "df_best4  = df_sorted.head(4)\n",
    "display(df_best4)"
   ]
  },
  {
   "cell_type": "code",
   "execution_count": 8,
   "metadata": {},
   "outputs": [
    {
     "data": {
      "image/png": "[encoded data removed]",
      "text/plain": [
       "<Figure size 432x288 with 1 Axes>"
      ]
     },
     "metadata": {},
     "output_type": "display_data"
    }
   ],
   "source": [
    "# check the resulting plot\n",
    "weights.pop('first_4', None)\n",
    "weights['best4'] = polyfit(df_best4.x, df_best4.y, 3)\n",
    "df['y_best4'] = get_y(weights['best4'], df.x)\n",
    "plot(df, weights);"
   ]
  },
  {
   "cell_type": "markdown",
   "metadata": {},
   "source": [
    "Berechnen Sie die Ausgaben des Datenmodells für die anderen 5 Werte und\n",
    "den entsprechenden Generalisierungsfehler."
   ]
  },
  {
   "cell_type": "code",
   "execution_count": 9,
   "metadata": {},
   "outputs": [
    {
     "data": {
      "text/html": [
       "<div>\n",
       "<style scoped>\n",
       "    .dataframe tbody tr th:only-of-type {\n",
       "        vertical-align: middle;\n",
       "    }\n",
       "\n",
       "    .dataframe tbody tr th {\n",
       "        vertical-align: top;\n",
       "    }\n",
       "\n",
       "    .dataframe thead th {\n",
       "        text-align: right;\n",
       "    }\n",
       "</style>\n",
       "<table border=\"1\" class=\"dataframe\">\n",
       "  <thead>\n",
       "    <tr style=\"text-align: right;\">\n",
       "      <th></th>\n",
       "      <th>y</th>\n",
       "      <th>y_best4</th>\n",
       "    </tr>\n",
       "  </thead>\n",
       "  <tbody>\n",
       "    <tr>\n",
       "      <th>1</th>\n",
       "      <td>0.10</td>\n",
       "      <td>0.210000</td>\n",
       "    </tr>\n",
       "    <tr>\n",
       "      <th>3</th>\n",
       "      <td>0.50</td>\n",
       "      <td>0.442857</td>\n",
       "    </tr>\n",
       "    <tr>\n",
       "      <th>4</th>\n",
       "      <td>-0.05</td>\n",
       "      <td>0.011429</td>\n",
       "    </tr>\n",
       "    <tr>\n",
       "      <th>5</th>\n",
       "      <td>-0.50</td>\n",
       "      <td>-0.421429</td>\n",
       "    </tr>\n",
       "    <tr>\n",
       "      <th>6</th>\n",
       "      <td>-0.70</td>\n",
       "      <td>-0.582857</td>\n",
       "    </tr>\n",
       "  </tbody>\n",
       "</table>\n",
       "</div>"
      ],
      "text/plain": [
       "      y   y_best4\n",
       "1  0.10  0.210000\n",
       "3  0.50  0.442857\n",
       "4 -0.05  0.011429\n",
       "5 -0.50 -0.421429\n",
       "6 -0.70 -0.582857"
      ]
     },
     "metadata": {},
     "output_type": "display_data"
    },
    {
     "name": "stdout",
     "output_type": "stream",
     "text": [
      "mean squared error on test data: 0.0078\n"
     ]
    }
   ],
   "source": [
    "df_test = df.loc[~df.x.isin(df_best4.x)]\n",
    "df_test = df_test[['y', 'y_best4']]\n",
    "display(df_test)\n",
    "generalization_err = (df_test.y - df_test.y_best4)**2\n",
    "mse = generalization_err.sum() / generalization_err.count()\n",
    "print('mean squared error on test data: {:.4f}'.format(mse))"
   ]
  },
  {
   "cell_type": "markdown",
   "metadata": {},
   "source": [
    "Schätzen Sie schließlich die Varianz des Rauschens, mit dem die Daten generiert wurden.  \n",
    "\n",
    "The\n",
    "[sample variance](https://en.wikipedia.org/wiki/Variance#Sample_variance)\n",
    "is calculated by the following formular:  \n",
    "$$ \\sigma^2 = \\frac 1n \\sum_{i=1}^n \\left(Y_i - \\overline{Y} \\right)^2$$  \n",
    "\n",
    "Die geschätzte Varianz ist die Varianz zwischen den Datenpunkten $\\vec{y_{data}}$ und der besten Schätzung der Datenpunkte $\\vec{y^*}$"
   ]
  },
  {
   "cell_type": "code",
   "execution_count": 10,
   "metadata": {},
   "outputs": [
    {
     "name": "stdout",
     "output_type": "stream",
     "text": [
      "variance: 0.0013\n",
      "sigma: 0.0360\n"
     ]
    }
   ],
   "source": [
    "y_predicted = get_y(weights['all_samples'], df.x).ravel()\n",
    "variance = ((df.y - y_predicted) ** 2).sum() / n\n",
    "print('variance: {:.4f}'.format(variance))\n",
    "print('sigma: {:.4f}'.format(np.sqrt(variance)))"
   ]
  },
  {
   "cell_type": "markdown",
   "metadata": {},
   "source": [
    "# Task 2.3 Lösung für lineare Modelle"
   ]
  },
  {
   "cell_type": "markdown",
   "metadata": {},
   "source": [
    "Ein lineares Datenmodell ist linear in den Parametern $\\omega$, kann aber nichtlinear in den Eingaben sein. Es\n",
    "hat die generelle Form\n",
    "\n",
    "$$y(x_n, \\omega) = \\sum_{m=0}^M \\omega_m \\Phi_m (x_n) =\n",
    "\\vec{\\omega}^T \\mathbf{\\Phi}(x_n)$$\n",
    "\n",
    "$$\\mathbf{\\Phi}(x_n) = (\\Phi_0(x_n), \\dots, \\Phi_M(x_n))^T$$\n",
    "\n",
    "wobei $\\Phi _i$ eine beliebige (nichtlineare) Funktion der Eingaben sein kann, **die nicht von den Parametern abhängt!**\n",
    "Berechnen Sie den Gradienten der Fehlerfunktion $E(\\omega)$ für ein lineares Datenmodell, wobei"
   ]
  },
  {
   "cell_type": "markdown",
   "metadata": {},
   "source": [
    "$$E(\\vec\\omega) = \\sum_{n=1}^N (t_n - \\vec\\omega^T \\mathbf\\Phi(x_n))^2$$"
   ]
  },
  {
   "cell_type": "markdown",
   "metadata": {},
   "source": [
    "Setzen Sie den Gradienten zu Null (Bedingung für das Minimum !) und lösen Sie die entstehende\n",
    "Gleichung."
   ]
  },
  {
   "cell_type": "markdown",
   "metadata": {},
   "source": [
    "Zunächst schreibe ich die Fehlerfunktion um:  "
   ]
  },
  {
   "cell_type": "markdown",
   "metadata": {},
   "source": [
    "$$E(\\vec\\omega) = \\sum_{n=1}^N (t_n -  \\mathbf \\Phi(x_n)^T\\vec \\omega)^2$$"
   ]
  },
  {
   "cell_type": "markdown",
   "metadata": {},
   "source": [
    "Sei $\\mathbf X$ die Designmatrix:  \n",
    "\n",
    "\n",
    "$$\\mathbf{X} = \\begin{pmatrix}\n",
    " \\mathbf{\\Phi}(x_1)^T \\\\\n",
    " \\vdots& \\\\\n",
    " \\mathbf{\\Phi}(x_n)^T \\\\\n",
    "\\end{pmatrix}$$\n",
    "\n",
    "... und $\\vec e$ der $n$-dimensionale Fehlervektor:  \n",
    "$$ \\vec e = \\vec t - \\mathbf X \\vec\\omega$$  \n",
    "Dann lässt sich die Fehlerfunktion schreiben als:  "
   ]
  },
  {
   "cell_type": "markdown",
   "metadata": {},
   "source": [
    "\\begin{align}\n",
    "E(\\vec \\omega ) &= \\left(\\vec e\\right)^2\\\\  \n",
    "&= \\vec e^T \\vec e\\\\  \n",
    "&= \\left ( \\vec t - \\mathbf X \\vec\\omega \\right)^T \\left( \\vec t - \\mathbf X \\vec\\omega \\right)\\\\  \n",
    "&= \\vec t^T \\vec t - \\vec t^T \\mathbf X \\vec\\omega - \\left( \\vec t^T \\mathbf X \\vec\\omega \\right)^T + \\vec\\omega^T \\mathbf X^T \\mathbf X \\vec\\omega\\\\  \n",
    "&= \\vec t^T \\vec t - 2 \\left(\\vec t^T \\mathbf X \\vec\\omega\\right) + \\vec\\omega^T \\mathbf X^T \\mathbf X \\vec\\omega\\\\  \n",
    "\\end{align}"
   ]
  },
  {
   "cell_type": "markdown",
   "metadata": {},
   "source": [
    "**Regeln zur Matrixdifferentialrechnung:**  \n",
    "  \n",
    "$\\nabla _{\\vec x} \\mathbf A = 0$  \n",
    "  \n",
    "$\\nabla _{\\vec x} \\mathbf A \\vec x = \\mathbf A$  \n",
    "  \n",
    "$\\nabla _{\\vec x} \\vec x \\mathbf A = \\mathbf A^T$  \n",
    "  \n",
    "$\\nabla _{\\vec x} \\vec x^T \\mathbf A \\vec x = 2~\\vec x^T \\mathbf A$    \n",
    "\n",
    "Gradient gleich $0$ setzen:"
   ]
  },
  {
   "cell_type": "markdown",
   "metadata": {},
   "source": [
    "\\begin{align}\n",
    "0 = \\nabla _{\\vec\\omega} &= 0 - 2~\\vec{t^T} \\mathbf X + 2~\\vec{\\omega^T} \\mathbf X^T \\mathbf X\\\\  \n",
    "\\rightarrow 2~\\vec t^T \\mathbf X &= 2~\\vec\\omega^T \\mathbf X^T \\mathbf X\\\\   \n",
    "\\leftrightarrow 2~\\vec t^T \\mathbf X &= 2~\\vec\\omega^T \\mathbf X^T \\mathbf X\\\\   \n",
    "\\leftrightarrow \\vec t^T \\mathbf X &= \\vec\\omega^T \\mathbf X^T \\mathbf X\\\\   \n",
    "\\leftrightarrow \\vec \\omega^T &= \\vec t^T \\mathbf X \\left(\\mathbf X^T \\mathbf X\\right)^{-1}\\\\  \n",
    "\\leftrightarrow \\vec \\omega &= \\left(\\mathbf X^T \\mathbf X \\right)^{-1}\\mathbf X^T \\mathbf t\\\\  \n",
    "\\end{align}"
   ]
  }
 ],
 "metadata": {
  "kernelspec": {
   "display_name": "Python 3",
   "language": "python",
   "name": "python3"
  },
  "language_info": {
   "codemirror_mode": {
    "name": "ipython",
    "version": 3
   },
   "file_extension": ".py",
   "mimetype": "text/x-python",
   "name": "python",
   "nbconvert_exporter": "python",
   "pygments_lexer": "ipython3",
   "version": "3.7.2"
  }
 },
 "nbformat": 4,
 "nbformat_minor": 2
}
